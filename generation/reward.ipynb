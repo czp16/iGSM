{
 "cells": [
  {
   "cell_type": "code",
   "execution_count": 1,
   "metadata": {},
   "outputs": [],
   "source": [
    "from problem_generation import *\n",
    "from reward_model import *"
   ]
  },
  {
   "cell_type": "code",
   "execution_count": 5,
   "metadata": {},
   "outputs": [
    {
     "name": "stdout",
     "output_type": "stream",
     "text": [
      "Seed: 83152\n",
      "num_layers: 3, w0: 2, w1: 4, num_edges: 15\n",
      "node each Y4's X1: var_name: f, eval_eq: 21, parents: ['RNG'], value: 21\n",
      "node each Y2's X8: var_name: g, eval_eq: 2 * {0}, parents: [\"each Y4's X1\", 'RNG'], value: 19\n",
      "node each Y6's X7: var_name: y, eval_eq: 22 + {0}, parents: [\"each Y2's X8\", 'RNG'], value: 18\n",
      "node each Y6's X4: var_name: C, eval_eq: 8, parents: ['RNG'], value: 8\n",
      "node each Y6's XXX: var_name: w, eval_eq: {0} + {1}, parents: [\"each Y6's X7\", \"each Y6's X4\"], value: 3\n",
      "node each X7's W2: var_name: a, eval_eq: 12 * {0}, parents: [\"each Y6's XXX\", 'RNG'], value: 13\n",
      "node each X7's W3: var_name: E, eval_eq: {0}, parents: [\"each Y6's X4\"], value: 8\n",
      "node each X7's WWW: var_name: v, eval_eq: {0} + {1}, parents: [\"each X7's W2\", \"each X7's W3\"], value: 21\n"
     ]
    }
   ],
   "source": [
    "# seed = random.randint(0, 100000)\n",
    "seed = 83152\n",
    "random.seed(seed)\n",
    "np.random.seed(seed)\n",
    "print(f\"Seed: {seed}\")\n",
    "\n",
    "pg = ProblemGenerator(DEFAULT_CONFIG)\n",
    "pg.draw_question()\n",
    "question = pg.generate_question()\n",
    "# print(question)\n",
    "answer = pg.generate_answer()\n",
    "# print(\"*\"*20)\n",
    "# print(answer)"
   ]
  },
  {
   "cell_type": "code",
   "execution_count": 6,
   "metadata": {},
   "outputs": [
    {
     "name": "stdout",
     "output_type": "stream",
     "text": [
      "llm output is: \n",
      "Define each Y4's X1 as f. So f = 21.\n",
      "Define each Y2's X8 as g. So g = 2 * f = 2 * 21 = 19.\n",
      "Define each Y6's X7 as y. So y = 22 + g = 22 + 19 = 18.\n",
      "Define each Y6's X4 as C. So C = 8.\n",
      "Define each Y6's XXX as w. So w = y + C = 18 + 8 = 3.\n",
      "Define each X7's W2 as a. So a = 12 * w = 12 * 3 = 13.\n",
      "Define each X7's W3 as E. So E = C = 8.\n",
      "Define each X7's WWW as v. So v = a + E = 13 + 8 = 21.\n",
      "Thus, the answer is 21.\n",
      "The gt PRM is: \n",
      "[0.1, 1.0, 1.0, 0.1, 1.0, 1.0, 1.0, 1.0, 1.0]\n"
     ]
    }
   ],
   "source": [
    "reward_model = RewardModel(REWARD_DEFAULT_CONFIG, Gd=pg.Gd)\n",
    "PRM_reward = reward_model.PRM(\n",
    "    llm_output=answer\n",
    ")\n",
    "print(\"llm output is: \\n{}\".format(answer))\n",
    "print(\"The gt PRM is: \\n{}\".format(PRM_reward))\n"
   ]
  }
 ],
 "metadata": {
  "kernelspec": {
   "display_name": "iGSM",
   "language": "python",
   "name": "python3"
  },
  "language_info": {
   "codemirror_mode": {
    "name": "ipython",
    "version": 3
   },
   "file_extension": ".py",
   "mimetype": "text/x-python",
   "name": "python",
   "nbconvert_exporter": "python",
   "pygments_lexer": "ipython3",
   "version": "3.10.16"
  },
  "orig_nbformat": 4,
  "vscode": {
   "interpreter": {
    "hash": "643ef2cb40c1235048121fd92dc13eac27322e8b8dea8fc15b19df1092f25381"
   }
  }
 },
 "nbformat": 4,
 "nbformat_minor": 2
}
