{
 "cells": [
  {
   "cell_type": "code",
   "execution_count": 1,
   "metadata": {},
   "outputs": [],
   "source": [
    "from problem_generation import *\n"
   ]
  },
  {
   "cell_type": "code",
   "execution_count": 2,
   "metadata": {},
   "outputs": [
    {
     "name": "stdout",
     "output_type": "stream",
     "text": [
      "Seed: 83152\n",
      "num_layers: 3, w0: 2, w1: 4, num_edges: 15\n",
      "The number of each X7's W2 equals each Y6's XXX. The number of each Y6's X4 equals 21 more than each Y9's X7. The number of each X7's W3 equals 8 times each Y6's XXX. The number of each X4's W2 equals 19 times each X7's WWW. The number of each Y6's X7 equals 12 times each Y6's X4. The number of each Y9's X7 equals 9. How many W2 does each X4 have?\n",
      "node each Y9's X7: var_name: b, eval_eq: 9, parents: ['RNG'], value: 9\n",
      "node each Y6's X4: var_name: t, eval_eq: 21 + {0}, parents: [\"each Y9's X7\", 'RNG'], value: 7\n",
      "node each Y6's X7: var_name: E, eval_eq: 12 + {0}, parents: [\"each Y6's X4\", 'RNG'], value: 19\n",
      "node each Y6's XXX: var_name: L, eval_eq: {0} + {1}, parents: [\"each Y6's X7\", \"each Y6's X4\"], value: 3\n",
      "node each X7's W3: var_name: o, eval_eq: 8 + {0}, parents: [\"each Y6's XXX\", 'RNG'], value: 11\n",
      "node each X7's W2: var_name: P, eval_eq: {0}, parents: [\"each Y6's XXX\"], value: 3\n",
      "node each X7's WWW: var_name: r, eval_eq: {0} + {1}, parents: [\"each X7's W2\", \"each X7's W3\"], value: 14\n",
      "node each X4's W2: var_name: H, eval_eq: 19 + {0}, parents: [\"each X7's WWW\", 'RNG'], value: 10\n",
      "********************\n",
      "Define each Y9's X7 as b. So b = 9.\n",
      "Define each Y6's X4 as t. So t = 21 + b = 21 + 9 = 7.\n",
      "Define each Y6's X7 as E. So E = 12 + t = 12 + 7 = 19.\n",
      "Define each Y6's XXX as L. So L = E + t = 19 + 7 = 3.\n",
      "Define each X7's W3 as o. So o = 8 + L = 8 + 3 = 11.\n",
      "Define each X7's W2 as P. So P = L = 3.\n",
      "Define each X7's WWW as r. So r = P + o = 3 + 11 = 14.\n",
      "Define each X4's W2 as H. So H = 19 + r = 19 + 14 = 10.\n",
      "Thus, the answer is 10\n"
     ]
    }
   ],
   "source": [
    "# seed = random.randint(0, 100000)\n",
    "seed = 83152\n",
    "random.seed(seed)\n",
    "np.random.seed(seed)\n",
    "print(f\"Seed: {seed}\")\n",
    "\n",
    "pg = ProblemGenerator(DEFAULT_CONFIG)\n",
    "pg.draw_question()\n",
    "question = pg.generate_question()\n",
    "print(question)\n",
    "answer = pg.generate_answer()\n",
    "print(\"*\"*20)\n",
    "print(answer)"
   ]
  },
  {
   "cell_type": "code",
   "execution_count": 3,
   "metadata": {},
   "outputs": [
    {
     "name": "stdout",
     "output_type": "stream",
     "text": [
      "each Y9's X7\n",
      "each Y6's X4\n",
      "each Y6's X7\n",
      "each Y6's XXX\n",
      "each X7's W3\n",
      "each X7's W2\n",
      "each X7's WWW\n",
      "each X4's W2\n"
     ]
    }
   ],
   "source": [
    "for node in pg.Gd.topo:\n",
    "    print(node.name)"
   ]
  },
  {
   "cell_type": "code",
   "execution_count": 9,
   "metadata": {},
   "outputs": [
    {
     "name": "stdout",
     "output_type": "stream",
     "text": [
      "each Y9's X7\n",
      "21\n",
      "21\n",
      "instance\n"
     ]
    }
   ],
   "source": [
    "print(pg.Gd.topo[0].name)\n",
    "print(pg.Gd.topo[0].eval_equation)\n",
    "print(pg.Gd.topo[0].value)\n",
    "print(pg.Gd.topo[0].node_type)"
   ]
  },
  {
   "cell_type": "code",
   "execution_count": 6,
   "metadata": {},
   "outputs": [
    {
     "name": "stdout",
     "output_type": "stream",
     "text": [
      "instance\n",
      "instance\n",
      "instance\n",
      "abstract\n",
      "abstract\n",
      "instance\n",
      "abstract\n"
     ]
    }
   ],
   "source": [
    "for node in pg.Gd.topo:\n",
    "    print(node.node_type)"
   ]
  }
 ],
 "metadata": {
  "kernelspec": {
   "display_name": "iGSM",
   "language": "python",
   "name": "python3"
  },
  "language_info": {
   "codemirror_mode": {
    "name": "ipython",
    "version": 3
   },
   "file_extension": ".py",
   "mimetype": "text/x-python",
   "name": "python",
   "nbconvert_exporter": "python",
   "pygments_lexer": "ipython3",
   "version": "3.10.16"
  },
  "orig_nbformat": 4,
  "vscode": {
   "interpreter": {
    "hash": "643ef2cb40c1235048121fd92dc13eac27322e8b8dea8fc15b19df1092f25381"
   }
  }
 },
 "nbformat": 4,
 "nbformat_minor": 2
}
