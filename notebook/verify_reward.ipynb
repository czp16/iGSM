{
 "cells": [
  {
   "attachments": {},
   "cell_type": "markdown",
   "metadata": {},
   "source": [
    "## Step 1\n",
    "Load model response"
   ]
  },
  {
   "cell_type": "code",
   "execution_count": 1,
   "metadata": {},
   "outputs": [],
   "source": [
    "import json\n",
    "\n",
    "# Path to your JSONL file\n",
    "file_path = \"data4verification/iGSM_verify_1000_cot.jsonl\"\n",
    "response_list = []\n",
    "gt_response_list = []\n",
    "\n",
    "with open(file_path, 'r') as file:\n",
    "    for line in file:\n",
    "        obj = json.loads(line)  # Parse each line as a JSON object\n",
    "        response_list.append(obj)\n",
    "        # print(obj.keys())  # Process or print each object\n",
    "        # print(obj['idx'])\n",
    "        \n",
    "gt_cot_filepath = \"data4verification/iGSM_verify_1000.jsonl\"\n",
    "with open(gt_cot_filepath, 'r') as file:\n",
    "    for line in file:\n",
    "        obj = json.loads(line)  # Parse each line as a JSON object\n",
    "        gt_response_list.append(obj)\n",
    "        # print(obj.keys())  # Process or print each object\n",
    "        # print(obj['idx'])\n",
    "\n"
   ]
  },
  {
   "attachments": {},
   "cell_type": "markdown",
   "metadata": {},
   "source": [
    "## Step 2\n",
    "Calculate PRM based on responses and DAGs."
   ]
  },
  {
   "cell_type": "code",
   "execution_count": null,
   "metadata": {},
   "outputs": [],
   "source": [
    "import random\n",
    "import numpy as np\n",
    "from igsm_gym.generation import ProblemGenerator\n",
    "from igsm_gym.utils.misc import seed_all\n",
    "from igsm_gym.env import RewardModel\n",
    "import json\n",
    "import copy\n",
    "\n",
    "config = {\n",
    "    \"english_path\": \"igsm_gym/generation/english/categorization.json\",\n",
    "    \"max_operations\": 21,\n",
    "    \"force\": False,\n",
    "}\n",
    "\n",
    "seed = 10\n",
    "seed_all(seed)\n",
    "print(seed)\n",
    "\n",
    "test_num = 1000\n",
    "data = []\n",
    "Gd_list = []\n",
    "\n",
    "pg = ProblemGenerator(config=config,debug=True)\n",
    "\n",
    "for i in range(test_num):\n",
    "    while not pg.draw_question():\n",
    "        continue\n",
    "    print(\"index:\", i)\n",
    "    \n",
    "    question = pg.generate_question()\n",
    "    answer = pg.generate_answer()\n",
    "    gt_cot = answer\n",
    "    gt_answer = pg.Gd.topo[-1].value\n",
    "    \n",
    "    response = response_list[i]['code'][0]\n",
    "    \n",
    "    reward_model = RewardModel(Gd=pg.Gd)\n",
    "    PRM_reward = reward_model.PRM(\n",
    "        llm_output=response\n",
    "    )\n",
    "    \n",
    "    print(question)\n",
    "    print(\"@\"*10)\n",
    "    print(\"gt cot:\")\n",
    "    print(gt_cot)\n",
    "    print(\"gt answer:\")\n",
    "    print(gt_answer)\n",
    "    print(\"@\"*10)\n",
    "    print(\"respones:\")\n",
    "    print(response)\n",
    "    print(\"@\"*10)\n",
    "    print(\"PRM:\")\n",
    "    print(PRM_reward)\n",
    "    print(\"=\"*30)\n",
    "\n",
    "    \n",
    "    \n",
    "# Save the data to a JSONL file\n",
    "# output_file = \"iGSM_verify_{}.jsonl\".format(test_num)\n",
    "# with open(output_file, \"w\") as f:\n",
    "#     for entry in data:\n",
    "#         f.write(json.dumps(entry) + \"\\n\")  # Convert each entry to a JSON string and write it as a new line"
   ]
  }
 ],
 "metadata": {
  "kernelspec": {
   "display_name": "iGSM",
   "language": "python",
   "name": "python3"
  },
  "language_info": {
   "codemirror_mode": {
    "name": "ipython",
    "version": 3
   },
   "file_extension": ".py",
   "mimetype": "text/x-python",
   "name": "python",
   "nbconvert_exporter": "python",
   "pygments_lexer": "ipython3",
   "version": "3.10.16"
  },
  "orig_nbformat": 4,
  "vscode": {
   "interpreter": {
    "hash": "643ef2cb40c1235048121fd92dc13eac27322e8b8dea8fc15b19df1092f25381"
   }
  }
 },
 "nbformat": 4,
 "nbformat_minor": 2
}
