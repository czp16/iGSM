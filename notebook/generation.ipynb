{
 "cells": [
  {
   "cell_type": "code",
   "execution_count": 1,
   "metadata": {},
   "outputs": [],
   "source": [
    "import random\n",
    "import numpy as np\n",
    "from igsm_gym.generation import ProblemGenerator"
   ]
  },
  {
   "cell_type": "code",
   "execution_count": 7,
   "metadata": {},
   "outputs": [
    {
     "name": "stdout",
     "output_type": "stream",
     "text": [
      "Seed: 17213\n"
     ]
    }
   ],
   "source": [
    "seed = random.randint(0, 100000)\n",
    "seed = 17213\n",
    "random.seed(seed)\n",
    "np.random.seed(seed)\n",
    "print(f\"Seed: {seed}\")"
   ]
  },
  {
   "cell_type": "code",
   "execution_count": 8,
   "metadata": {},
   "outputs": [
    {
     "name": "stdout",
     "output_type": "stream",
     "text": [
      "num_layers: 2, w0: 2, w1: 3, num_edges: 9\n",
      "Random state (random): 16040\n",
      "NP Random state (random): 62850\n",
      "Random state (random): 69297\n",
      "NP Random state (random): 74312\n",
      "The number of each Z9's Y4 equals 20 times each Z7's Y4. The number of each Z7's Y5 equals 4 times each Z9's Y8. The number of each Z9's Y5 equals each Z7's Y5. The number of each Z6's Y8 equals each Z9's Y4. The number of each Z7's Y4 equals 3. The number of each Z6's Y4 equals 16 more than each Z7's Y8. The number of each Z9's Y8 equals each Z9's Y4. The number of each Z7's Y8 equals 0 more than each Z9's Y5. The number of each Z6's Y5 equals each Z6's Y4. How many YYY does each Z6 have?\n",
      "********************\n",
      "Define each Z7's Y4 as k. So k = 3.\n",
      "Define each Z9's Y4 as o. So o = 20 * k = 20 * 3 = 14.\n",
      "Define each Z9's Y8 as F. So F = o = 14.\n",
      "Define each Z7's Y5 as H. So H = 4 * F = 4 * 14 = 10.\n",
      "Define each Z9's Y5 as I. So I = H = 10.\n",
      "Define each Z7's Y8 as h. So h = 0 + I = 0 + 10 = 10.\n",
      "Define each Z6's Y4 as r. So r = 16 + h = 16 + 10 = 3.\n",
      "Define each Z6's Y8 as n. So n = o = 14.\n",
      "Define each Z6's Y5 as G. So G = r = 3.\n",
      "Define each Z6's YYY as a. So a = G + n + r = 3 + 14 + 3 = 20.\n",
      "Thus, the answer is 20.\n"
     ]
    }
   ],
   "source": [
    "pg = ProblemGenerator(debug=True)\n",
    "if pg.draw_question():\n",
    "    question = pg.generate_question()\n",
    "    print(question)\n",
    "    answer = pg.generate_answer()\n",
    "    print(\"*\"*20)\n",
    "    print(answer)"
   ]
  },
  {
   "cell_type": "code",
   "execution_count": 5,
   "metadata": {},
   "outputs": [
    {
     "name": "stdout",
     "output_type": "stream",
     "text": [
      "each Z2's Y1\n",
      "each X7's W3\n",
      "each Y1's X7\n",
      "each Y1's X8\n",
      "each X7's W9\n",
      "each X7's WWW\n",
      "each X8's W3\n",
      "each X8's W9\n",
      "each X8's WWW\n",
      "each Y1's WWW\n",
      "each Z3's Y1\n",
      "each Z3's WWW\n",
      "each Z2's Y2\n",
      "each Y2's X7\n"
     ]
    }
   ],
   "source": [
    "for node in pg.Gd.topo:\n",
    "    print(node.name)"
   ]
  },
  {
   "cell_type": "code",
   "execution_count": 6,
   "metadata": {},
   "outputs": [
    {
     "name": "stdout",
     "output_type": "stream",
     "text": [
      "each Z2's Y1\n",
      "15\n",
      "15\n",
      "instance\n"
     ]
    }
   ],
   "source": [
    "print(pg.Gd.topo[0].name)\n",
    "print(pg.Gd.topo[0].eval_equation)\n",
    "print(pg.Gd.topo[0].value)\n",
    "print(pg.Gd.topo[0].node_type)"
   ]
  },
  {
   "cell_type": "code",
   "execution_count": 6,
   "metadata": {},
   "outputs": [
    {
     "name": "stdout",
     "output_type": "stream",
     "text": [
      "instance\n",
      "instance\n",
      "instance\n",
      "abstract\n",
      "abstract\n",
      "instance\n",
      "abstract\n"
     ]
    }
   ],
   "source": [
    "for node in pg.Gd.topo:\n",
    "    print(node.node_type)"
   ]
  }
 ],
 "metadata": {
  "kernelspec": {
   "display_name": "math",
   "language": "python",
   "name": "python3"
  },
  "language_info": {
   "codemirror_mode": {
    "name": "ipython",
    "version": 3
   },
   "file_extension": ".py",
   "mimetype": "text/x-python",
   "name": "python",
   "nbconvert_exporter": "python",
   "pygments_lexer": "ipython3",
   "version": "3.10.16"
  },
  "orig_nbformat": 4
 },
 "nbformat": 4,
 "nbformat_minor": 2
}
