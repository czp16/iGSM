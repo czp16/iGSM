{
 "cells": [
  {
   "cell_type": "code",
   "execution_count": 1,
   "metadata": {},
   "outputs": [
    {
     "name": "stdout",
     "output_type": "stream",
     "text": [
      "10\n",
      "====================\n",
      "The number of each Z1's Y8 equals the sum of each Y2's X8 and each Y0's X6. The number of each Y0's X9 equals the sum of each Y2's X8 and each Y8's X3. The number of each Z7's Y0 equals each Z7's Y8. The number of each Y8's X3 equals 19 more than each Z0's Y7. The number of each Z5's Y7 equals each Z1's YYY. The number of each Z0's Y2 equals 21 more than each Z5's YYY. The number of each Y2's X8 equals 11. The number of each Z7's Y8 equals each Y0's X9. The number of each Z0's Y7 equals 3 more than each Y2's X8. The number of each Y0's X6 equals the difference of each Y8's X3 and each Z7's Y0. The number of each Z1's Y2 equals each Y0's X9. How many Y2 does each Z0 have?\n",
      "********************\n",
      "Define each Y2's X8 as l. So l = 11.\n",
      "Define each Z0's Y7 as d. So d = 3 + l = 3 + 11 = 14.\n",
      "Define each Y8's X3 as G. So G = 19 + d = 19 + 14 = 10.\n",
      "Define each Y0's X9 as D. So D = l + G = 11 + 10 = 21.\n",
      "Define each Z7's Y8 as c. So c = D = 21.\n",
      "Define each Z7's Y0 as M. So M = c = 21.\n",
      "Define each Y0's X6 as g. So g = G - M = 10 - 21 = 12.\n",
      "Define each Z1's Y8 as S. So S = l + g = 11 + 12 = 0.\n",
      "Define each Z1's Y2 as z. So z = D = 21.\n",
      "Define each Z1's YYY as m. So m = z + S = 21 + 0 = 21.\n",
      "Define each Z5's Y7 as q. So q = m = 21.\n",
      "Define each Z5's YYY as w. So w = q = 21.\n",
      "Define each Z0's Y2 as E. So E = 21 + w = 21 + 21 = 19.\n",
      "Thus, the answer is 19.\n",
      "1.0\n"
     ]
    }
   ],
   "source": [
    "import random\n",
    "import numpy as np\n",
    "from igsm_gym.generation import ProblemGenerator\n",
    "from igsm_gym.utils.misc import seed_all\n",
    "\n",
    "rate = 0\n",
    "num = 1\n",
    "\n",
    "config = {\n",
    "    \"english_path\": \"igsm_gym/generation/english/categorization.json\",\n",
    "    \"max_operations\": 21,\n",
    "    \"force\": False,\n",
    "}\n",
    "\n",
    "seed = 10\n",
    "seed_all(seed)\n",
    "print(seed)\n",
    "\n",
    "pg = ProblemGenerator(config=config,debug=True)\n",
    "\n",
    "for i in range(num):\n",
    "    if pg.draw_question():\n",
    "        rate += 1\n",
    "        question = pg.generate_question()\n",
    "        print(\"=\"*20)\n",
    "        print(question)\n",
    "        answer = pg.generate_answer()\n",
    "        print(\"*\"*20)\n",
    "        print(answer)\n",
    "rate = rate / num\n",
    "print(rate)"
   ]
  },
  {
   "cell_type": "code",
   "execution_count": null,
   "metadata": {},
   "outputs": [],
   "source": [
    "print(rate)"
   ]
  },
  {
   "cell_type": "code",
   "execution_count": null,
   "metadata": {},
   "outputs": [],
   "source": [
    "pg = ProblemGenerator(config=config,debug=True)\n",
    "if pg.draw_question():\n",
    "    question = pg.generate_question()\n",
    "    print(question)\n",
    "    answer = pg.generate_answer()\n",
    "    print(\"*\"*20)\n",
    "    print(answer)"
   ]
  },
  {
   "cell_type": "code",
   "execution_count": null,
   "metadata": {},
   "outputs": [],
   "source": [
    "for node in pg.Gd.topo:\n",
    "    print(node.name)"
   ]
  },
  {
   "cell_type": "code",
   "execution_count": null,
   "metadata": {},
   "outputs": [],
   "source": [
    "print(pg.Gd.topo[0].name)\n",
    "print(pg.Gd.topo[0].eval_equation)\n",
    "print(pg.Gd.topo[0].value)\n",
    "print(pg.Gd.topo[0].node_type)"
   ]
  },
  {
   "cell_type": "code",
   "execution_count": null,
   "metadata": {},
   "outputs": [],
   "source": [
    "for node in pg.Gd.topo:\n",
    "    print(node.node_type)"
   ]
  }
 ],
 "metadata": {
  "kernelspec": {
   "display_name": "iGSM",
   "language": "python",
   "name": "python3"
  },
  "language_info": {
   "codemirror_mode": {
    "name": "ipython",
    "version": 3
   },
   "file_extension": ".py",
   "mimetype": "text/x-python",
   "name": "python",
   "nbconvert_exporter": "python",
   "pygments_lexer": "ipython3",
   "version": "3.10.16"
  },
  "orig_nbformat": 4,
  "vscode": {
   "interpreter": {
    "hash": "643ef2cb40c1235048121fd92dc13eac27322e8b8dea8fc15b19df1092f25381"
   }
  }
 },
 "nbformat": 4,
 "nbformat_minor": 2
}
