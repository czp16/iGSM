{
 "cells": [
  {
   "cell_type": "code",
   "execution_count": 3,
   "metadata": {},
   "outputs": [],
   "source": [
    "import random\n",
    "import numpy as np\n",
    "from igsm_gym.generation import ProblemGenerator"
   ]
  },
  {
   "cell_type": "code",
   "execution_count": 1,
   "metadata": {},
   "outputs": [
    {
     "ename": "NameError",
     "evalue": "name 'random' is not defined",
     "output_type": "error",
     "traceback": [
      "\u001b[0;31m---------------------------------------------------------------------------\u001b[0m",
      "\u001b[0;31mNameError\u001b[0m                                 Traceback (most recent call last)",
      "Cell \u001b[0;32mIn[1], line 1\u001b[0m\n\u001b[0;32m----> 1\u001b[0m seed \u001b[39m=\u001b[39m random\u001b[39m.\u001b[39mrandint(\u001b[39m0\u001b[39m, \u001b[39m100000\u001b[39m)\n\u001b[1;32m      2\u001b[0m \u001b[39m# seed = 83152\u001b[39;00m\n\u001b[1;32m      3\u001b[0m random\u001b[39m.\u001b[39mseed(seed)\n",
      "\u001b[0;31mNameError\u001b[0m: name 'random' is not defined"
     ]
    }
   ],
   "source": [
    "seed = random.randint(0, 100000)\n",
    "# seed = 83152\n",
    "random.seed(seed)\n",
    "np.random.seed(seed)\n",
    "print(f\"Seed: {seed}\")\n",
    "\n",
    "pg = ProblemGenerator(debug=True)\n",
    "pg.draw_question()\n",
    "question = pg.generate_question()\n",
    "print(question)\n",
    "answer = pg.generate_answer()\n",
    "print(\"*\"*20)\n",
    "print(answer)"
   ]
  },
  {
   "cell_type": "code",
   "execution_count": 5,
   "metadata": {},
   "outputs": [
    {
     "name": "stdout",
     "output_type": "stream",
     "text": [
      "each Z2's Y1\n",
      "each X7's W3\n",
      "each Y1's X7\n",
      "each Y1's X8\n",
      "each X7's W9\n",
      "each X7's WWW\n",
      "each X8's W3\n",
      "each X8's W9\n",
      "each X8's WWW\n",
      "each Y1's WWW\n",
      "each Z3's Y1\n",
      "each Z3's WWW\n",
      "each Z2's Y2\n",
      "each Y2's X7\n"
     ]
    }
   ],
   "source": [
    "for node in pg.Gd.topo:\n",
    "    print(node.name)"
   ]
  },
  {
   "cell_type": "code",
   "execution_count": 6,
   "metadata": {},
   "outputs": [
    {
     "name": "stdout",
     "output_type": "stream",
     "text": [
      "each Z2's Y1\n",
      "15\n",
      "15\n",
      "instance\n"
     ]
    }
   ],
   "source": [
    "print(pg.Gd.topo[0].name)\n",
    "print(pg.Gd.topo[0].eval_equation)\n",
    "print(pg.Gd.topo[0].value)\n",
    "print(pg.Gd.topo[0].node_type)"
   ]
  },
  {
   "cell_type": "code",
   "execution_count": 6,
   "metadata": {},
   "outputs": [
    {
     "name": "stdout",
     "output_type": "stream",
     "text": [
      "instance\n",
      "instance\n",
      "instance\n",
      "abstract\n",
      "abstract\n",
      "instance\n",
      "abstract\n"
     ]
    }
   ],
   "source": [
    "for node in pg.Gd.topo:\n",
    "    print(node.node_type)"
   ]
  }
 ],
 "metadata": {
  "kernelspec": {
   "display_name": "iGSM",
   "language": "python",
   "name": "python3"
  },
  "language_info": {
   "codemirror_mode": {
    "name": "ipython",
    "version": 3
   },
   "file_extension": ".py",
   "mimetype": "text/x-python",
   "name": "python",
   "nbconvert_exporter": "python",
   "pygments_lexer": "ipython3",
   "version": "3.10.16 (main, Dec 11 2024, 16:24:50) [GCC 11.2.0]"
  },
  "orig_nbformat": 4,
  "vscode": {
   "interpreter": {
    "hash": "643ef2cb40c1235048121fd92dc13eac27322e8b8dea8fc15b19df1092f25381"
   }
  }
 },
 "nbformat": 4,
 "nbformat_minor": 2
}
