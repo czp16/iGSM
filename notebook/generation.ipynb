{
 "cells": [
  {
   "cell_type": "code",
   "execution_count": 3,
   "metadata": {},
   "outputs": [],
   "source": [
    "import random\n",
    "import numpy as np\n",
    "from igsm_gym.generation import ProblemGenerator"
   ]
  },
  {
   "cell_type": "code",
   "execution_count": 4,
   "metadata": {},
   "outputs": [
    {
     "name": "stdout",
     "output_type": "stream",
     "text": [
      "Seed: 83152\n",
      "The number of each Y2's X7 equals each Z2's Y2. The number of each X7's W3 equals 7 more than each Z2's Y1. The number of each X8's W9 equals 3 more than the difference of each Z2's Y1 and each Y1's X7. The number of each X7's W9 equals the sum of each Z2's Y1, each X7's W3, each Y1's X7 and each Y1's X8. The number of each Z2's Y1 equals 15. The number of each Z2's Y2 equals 8 more than each Z3's WWW. The number of each Y1's X8 equals each Y1's X7. The number of each X8's W3 equals the sum of each Y1's X8 and each X7's W9. The number of each Y1's X7 equals 12 times the sum of each X7's W3 and each Z2's Y1. The number of each Z3's Y1 equals the sum of each Y1's WWW, each Z2's Y1 and each Y1's X7. How many X7 does each Y2 have?\n",
      "********************\n",
      "Define each Z2's Y1 as u. So u = 15.\n",
      "Define each X7's W3 as T. So T = 7 + u = 7 + 15 = 22.\n",
      "Define each Y1's X7 as J. So J = 12 * T + u = 12 * 22 + 15 = 3.\n",
      "Define each Y1's X8 as B. So B = J = 3.\n",
      "Define each X7's W9 as z. So z = (u + T + J + B) = (15 + 22 + 3 + 3) = 20.\n",
      "Define each X7's WWW as t. So t = T + z = 22 + 20 = 19.\n",
      "Define each X8's W3 as L. So L = B + z = 3 + 20 = 0.\n",
      "Define each X8's W9 as Y. So Y = 3 * u - J = 3 * 15 - 3 = 19.\n",
      "Define each X8's WWW as w. So w = L + Y = 0 + 19 = 19.\n",
      "Define each Y1's WWW as l. So l = J * t + B * w = 3 * 19 + 3 * 19 = 22.\n",
      "Define each Z3's Y1 as b. So b = (l + u + J) = (22 + 15 + 3) = 17.\n",
      "Define each Z3's WWW as m. So m = b * l = 17 * 22 = 6.\n",
      "Define each Z2's Y2 as A. So A = 8 + m = 8 + 6 = 14.\n",
      "Define each Y2's X7 as C. So C = A = 14.\n",
      "Thus, the answer is 14.\n"
     ]
    }
   ],
   "source": [
    "# seed = random.randint(0, 100000)\n",
    "seed = 83152\n",
    "random.seed(seed)\n",
    "np.random.seed(seed)\n",
    "print(f\"Seed: {seed}\")\n",
    "\n",
    "pg = ProblemGenerator(debug=True)\n",
    "pg.draw_question()\n",
    "question = pg.generate_question()\n",
    "print(question)\n",
    "answer = pg.generate_answer()\n",
    "print(\"*\"*20)\n",
    "print(answer)"
   ]
  },
  {
   "cell_type": "code",
   "execution_count": 5,
   "metadata": {},
   "outputs": [
    {
     "name": "stdout",
     "output_type": "stream",
     "text": [
      "each Z2's Y1\n",
      "each X7's W3\n",
      "each Y1's X7\n",
      "each Y1's X8\n",
      "each X7's W9\n",
      "each X7's WWW\n",
      "each X8's W3\n",
      "each X8's W9\n",
      "each X8's WWW\n",
      "each Y1's WWW\n",
      "each Z3's Y1\n",
      "each Z3's WWW\n",
      "each Z2's Y2\n",
      "each Y2's X7\n"
     ]
    }
   ],
   "source": [
    "for node in pg.Gd.topo:\n",
    "    print(node.name)"
   ]
  },
  {
   "cell_type": "code",
   "execution_count": 6,
   "metadata": {},
   "outputs": [
    {
     "name": "stdout",
     "output_type": "stream",
     "text": [
      "each Z2's Y1\n",
      "15\n",
      "15\n",
      "instance\n"
     ]
    }
   ],
   "source": [
    "print(pg.Gd.topo[0].name)\n",
    "print(pg.Gd.topo[0].eval_equation)\n",
    "print(pg.Gd.topo[0].value)\n",
    "print(pg.Gd.topo[0].node_type)"
   ]
  },
  {
   "cell_type": "code",
   "execution_count": 6,
   "metadata": {},
   "outputs": [
    {
     "name": "stdout",
     "output_type": "stream",
     "text": [
      "instance\n",
      "instance\n",
      "instance\n",
      "abstract\n",
      "abstract\n",
      "instance\n",
      "abstract\n"
     ]
    }
   ],
   "source": [
    "for node in pg.Gd.topo:\n",
    "    print(node.node_type)"
   ]
  }
 ],
 "metadata": {
  "kernelspec": {
   "display_name": "math",
   "language": "python",
   "name": "python3"
  },
  "language_info": {
   "codemirror_mode": {
    "name": "ipython",
    "version": 3
   },
   "file_extension": ".py",
   "mimetype": "text/x-python",
   "name": "python",
   "nbconvert_exporter": "python",
   "pygments_lexer": "ipython3",
   "version": "3.10.16"
  },
  "orig_nbformat": 4
 },
 "nbformat": 4,
 "nbformat_minor": 2
}
