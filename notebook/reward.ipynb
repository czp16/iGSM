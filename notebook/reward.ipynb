{
 "cells": [
  {
   "cell_type": "code",
   "execution_count": 1,
   "metadata": {},
   "outputs": [],
   "source": [
    "import random\n",
    "import numpy as np\n",
    "\n",
    "from igsm_gym.generation import ProblemGenerator\n",
    "from igsm_gym.env.env import ProcessRewardModel, OutcomeRewardModel"
   ]
  },
  {
   "cell_type": "code",
   "execution_count": 5,
   "metadata": {},
   "outputs": [
    {
     "name": "stdout",
     "output_type": "stream",
     "text": [
      "Seed: 83152\n"
     ]
    }
   ],
   "source": [
    "# seed = random.randint(0, 100000)\n",
    "seed = 83152\n",
    "random.seed(seed)\n",
    "np.random.seed(seed)\n",
    "print(f\"Seed: {seed}\")\n",
    "\n",
    "pg = ProblemGenerator(config={\"max_operations\": 15, \"force\": True})\n",
    "while True:\n",
    "    if pg.draw_question(): break\n",
    "question = pg.generate_question()\n",
    "# print(question)\n",
    "answer = pg.generate_answer()\n",
    "# print(\"*\"*20)\n",
    "# print(answer)"
   ]
  },
  {
   "cell_type": "code",
   "execution_count": 14,
   "metadata": {},
   "outputs": [
    {
     "name": "stdout",
     "output_type": "stream",
     "text": [
      "Define each Woodland Zone's Shark as B. So B = 10.\n",
      "1.0\n",
      "Define each Arctic Habitat's Dolphin as O. So O = 15 + B = 15 + 10 = 2.\n",
      "1.0\n",
      "Define each Woodland Zone's Dolphin as e. So e = 12 * (O + B) = 12 * (2 + 10) = 6.\n",
      "1.0\n",
      "Define each Dolphin's Rib as d. so d = 19.\n",
      "0.5\n",
      "Define each Shark's Bone as y. So y = Q = 19.\n",
      "1.0\n",
      "Define each Dolphin's Rib as T. So T = 17 + (O - y) = 17 + (2 - 19) = 0.\n",
      "1.0\n",
      "Define each Small Critter Zoo's Woodland Zone as M. So M = 18 * T = 18 * 0 = 0.\n",
      "1.0\n",
      "Define each Dolphin's Spine as x. So x = 14 * (M + O + Q) = 14 * (0 + 2 + 19) = 18.\n",
      "1.0\n",
      "Define each Dolphin's Bone as h. So h = T + x = 0 + 18 = 18.\n",
      "1.0\n",
      "Define each Wildlife Center's Arctic Habitat as n. So n = Q + B + h = 19 + 10 + 18 = 1.\n",
      "1.0\n",
      "Thus, the answer is 1.\n",
      "1.0\n"
     ]
    }
   ],
   "source": [
    "reward_model = ProcessRewardModel(pg.Gd)\n",
    "\n",
    "_cnt = 0\n",
    "for ans in answer.split(\"\\n\"):\n",
    "    if _cnt == 3:\n",
    "        ans = \"Define each Dolphin's Rib as d. so d = 19.\"\n",
    "    print(ans)\n",
    "    print(reward_model(\"\", ans))\n",
    "    _cnt += 1"
   ]
  },
  {
   "cell_type": "code",
   "execution_count": null,
   "metadata": {},
   "outputs": [],
   "source": []
  }
 ],
 "metadata": {
  "kernelspec": {
   "display_name": "math",
   "language": "python",
   "name": "python3"
  },
  "language_info": {
   "codemirror_mode": {
    "name": "ipython",
    "version": 3
   },
   "file_extension": ".py",
   "mimetype": "text/x-python",
   "name": "python",
   "nbconvert_exporter": "python",
   "pygments_lexer": "ipython3",
   "version": "3.10.16"
  },
  "orig_nbformat": 4
 },
 "nbformat": 4,
 "nbformat_minor": 2
}
