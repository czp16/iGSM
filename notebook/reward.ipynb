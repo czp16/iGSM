{
 "cells": [
  {
   "cell_type": "code",
   "execution_count": 1,
   "metadata": {},
   "outputs": [],
   "source": [
    "import random\n",
    "import numpy as np\n",
    "\n",
    "from igsm_gym.generation import ProblemGenerator\n",
    "from igsm_gym.env import RewardModel"
   ]
  },
  {
   "cell_type": "code",
   "execution_count": 2,
   "metadata": {},
   "outputs": [
    {
     "name": "stdout",
     "output_type": "stream",
     "text": [
      "Seed: 83152\n"
     ]
    }
   ],
   "source": [
    "# seed = random.randint(0, 100000)\n",
    "seed = 83152\n",
    "random.seed(seed)\n",
    "np.random.seed(seed)\n",
    "print(f\"Seed: {seed}\")\n",
    "\n",
    "pg = ProblemGenerator(debug=True)\n",
    "pg.draw_question()\n",
    "question = pg.generate_question()\n",
    "# print(question)\n",
    "answer = pg.generate_answer()\n",
    "# print(\"*\"*20)\n",
    "# print(answer)"
   ]
  },
  {
   "cell_type": "code",
   "execution_count": 3,
   "metadata": {},
   "outputs": [
    {
     "name": "stdout",
     "output_type": "stream",
     "text": [
      "llm output is: \n",
      "Define each Y3's X7 as c. So c = 15.\n",
      "Define each Y3's X8 as B. So B = 7 + c = 7 + 15 = 22.\n",
      "Define each X8's W3 as t. So t = 12 * B + c = 12 * 22 + 15 = 3.\n",
      "Define each Y2's X8 as g. So g = t = 3.\n",
      "Define each X8's W9 as A. So A = (c + B + g + t) = (15 + 22 + 3 + 3) = 20.\n",
      "Define each X8's WWW as p. So p = t + A = 3 + 20 = 0.\n",
      "Define each X7's W9 as w. So w = g + A = 3 + 20 = 0.\n",
      "Define each Y1's X8 as J. So J = 3 * t - p = 3 * 3 - 0 = 9.\n",
      "Define each X7's W3 as K. So K = 10 * p + t = 10 * 0 + 3 = 3.\n",
      "Define each Y1's X7 as E. So E = K = 3.\n",
      "Define each X7's WWW as y. So y = K + w = 3 + 0 = 3.\n",
      "Define each Z3's Y1 as d. So d = y = 3.\n",
      "Define each Y1's WWW as q. So q = E * y + J * p = 3 * 3 + 9 * 0 = 9.\n",
      "Define each Z3's WWW as j. So j = d * q = 3 * 9 = 4.\n",
      "Thus, the answer is 4.\n",
      "The gt PRM is: \n",
      "[0.1, 1.0, 1.0, 1.0, 1.0, 1.0, 1.0, 1.0, 1.0, 1.0, 1.0, 1.0, 1.0, 1.0, 1.0]\n"
     ]
    }
   ],
   "source": [
    "reward_model = RewardModel(Gd=pg.Gd)\n",
    "PRM_reward = reward_model.PRM(\n",
    "    llm_output=answer\n",
    ")\n",
    "print(\"llm output is: \\n{}\".format(answer))\n",
    "print(\"The gt PRM is: \\n{}\".format(PRM_reward))\n"
   ]
  },
  {
   "cell_type": "code",
   "execution_count": null,
   "metadata": {},
   "outputs": [],
   "source": []
  }
 ],
 "metadata": {
  "kernelspec": {
   "display_name": "math",
   "language": "python",
   "name": "python3"
  },
  "language_info": {
   "codemirror_mode": {
    "name": "ipython",
    "version": 3
   },
   "file_extension": ".py",
   "mimetype": "text/x-python",
   "name": "python",
   "nbconvert_exporter": "python",
   "pygments_lexer": "ipython3",
   "version": "3.10.16"
  },
  "orig_nbformat": 4
 },
 "nbformat": 4,
 "nbformat_minor": 2
}
